{
  "nbformat": 4,
  "nbformat_minor": 0,
  "metadata": {
    "colab": {
      "provenance": []
    },
    "kernelspec": {
      "name": "python3",
      "display_name": "Python 3"
    },
    "language_info": {
      "name": "python"
    }
  },
  "cells": [
    {
      "cell_type": "code",
      "execution_count": 2,
      "metadata": {
        "colab": {
          "base_uri": "https://localhost:8080/"
        },
        "id": "VmH8hQsvRhX1",
        "outputId": "da161f4a-12da-4488-d602-409761ee496b"
      },
      "outputs": [
        {
          "output_type": "stream",
          "name": "stdout",
          "text": [
            "5328\n"
          ]
        }
      ],
      "source": [
        "initial = 111\n",
        "\n",
        "for x in range(2,7,2):\n",
        "  initial *= x  #initial = initial*x\n",
        "\n",
        "print(initial)"
      ]
    },
    {
      "cell_type": "code",
      "source": [
        "a = 13\n",
        "b = 8\n",
        "\n",
        "if a > b:\n",
        "  print(\"Hello Python\")"
      ],
      "metadata": {
        "colab": {
          "base_uri": "https://localhost:8080/"
        },
        "id": "AR9-0Q4rRxGt",
        "outputId": "17e56371-9a13-4ee6-f143-bfec724af71c"
      },
      "execution_count": 3,
      "outputs": [
        {
          "output_type": "stream",
          "name": "stdout",
          "text": [
            "Hello Python\n"
          ]
        }
      ]
    },
    {
      "cell_type": "markdown",
      "source": [
        "Python for loops.\n",
        "\n",
        "Loop through the letters in the word \"Colors\":"
      ],
      "metadata": {
        "id": "GTAfgke2R5N2"
      }
    },
    {
      "cell_type": "code",
      "source": [
        "for x in \"Colors\":\n",
        "  print(x)"
      ],
      "metadata": {
        "colab": {
          "base_uri": "https://localhost:8080/"
        },
        "id": "0phwyUBERzsH",
        "outputId": "411866c0-6a46-449b-f508-40658652d233"
      },
      "execution_count": 1,
      "outputs": [
        {
          "output_type": "stream",
          "name": "stdout",
          "text": [
            "C\n",
            "o\n",
            "l\n",
            "o\n",
            "r\n",
            "s\n"
          ]
        }
      ]
    },
    {
      "cell_type": "markdown",
      "source": [
        "With the break statement we can stop the loop before it has looped through all the items:"
      ],
      "metadata": {
        "id": "MObmIWVSSeYy"
      }
    },
    {
      "cell_type": "code",
      "source": [
        "colors = [\"black\", \"red\", \"white\"]\n",
        "for x in colors:\n",
        "  print(x)\n",
        "  if x == \"black\":\n",
        "    break"
      ],
      "metadata": {
        "colab": {
          "base_uri": "https://localhost:8080/"
        },
        "id": "GoreO3JSSh4V",
        "outputId": "3694a368-e90c-4f47-ff63-76d048e7bced"
      },
      "execution_count": 4,
      "outputs": [
        {
          "output_type": "stream",
          "name": "stdout",
          "text": [
            "black\n"
          ]
        }
      ]
    },
    {
      "cell_type": "markdown",
      "source": [
        "Exit the loop when x is \"Pencil\":"
      ],
      "metadata": {
        "id": "bvG-OX_YS28b"
      }
    },
    {
      "cell_type": "code",
      "source": [
        "colors = [\"black\", \"red\", \"white\"]\n",
        "for x in colors:\n",
        "  print(x)\n",
        "  if x == \"red\":\n",
        "    break\n",
        "    print(x)"
      ],
      "metadata": {
        "colab": {
          "base_uri": "https://localhost:8080/"
        },
        "id": "LAAFT2ZvS4YI",
        "outputId": "e20ba074-9973-4b86-d9eb-6f5980126670"
      },
      "execution_count": 5,
      "outputs": [
        {
          "output_type": "stream",
          "name": "stdout",
          "text": [
            "black\n",
            "red\n"
          ]
        }
      ]
    },
    {
      "cell_type": "markdown",
      "source": [
        "With the continue statement we can stop the current iteration of the loop, and continue with the next:"
      ],
      "metadata": {
        "id": "tjrxx5yHTO3K"
      }
    },
    {
      "cell_type": "code",
      "source": [
        "colors = [\"black\", \"red\", \"white\"]\n",
        "for x in colors:\n",
        "  print(x)\n",
        "  if x == \"red\":\n",
        "    continue\n",
        "    print(x)"
      ],
      "metadata": {
        "colab": {
          "base_uri": "https://localhost:8080/"
        },
        "id": "XDXElC5FTSqU",
        "outputId": "88b8dfd8-3413-4237-c9e4-8f5125879773"
      },
      "execution_count": 6,
      "outputs": [
        {
          "output_type": "stream",
          "name": "stdout",
          "text": [
            "black\n",
            "red\n",
            "white\n"
          ]
        }
      ]
    },
    {
      "cell_type": "markdown",
      "source": [
        "To loop through a set of code a specified number of times, we can use the range() function, The range() function returns a sequence of numbers, starting from 0 by default, and increments by 1 (by default), and ends at a specified number"
      ],
      "metadata": {
        "id": "WPjRXy4hTpXS"
      }
    },
    {
      "cell_type": "code",
      "source": [
        "for x in range(18):\n",
        "  print(x)"
      ],
      "metadata": {
        "colab": {
          "base_uri": "https://localhost:8080/"
        },
        "id": "0VYP7k18UGE0",
        "outputId": "6705ab0a-1ca5-4d5a-9236-8296f4e3acdc"
      },
      "execution_count": 7,
      "outputs": [
        {
          "output_type": "stream",
          "name": "stdout",
          "text": [
            "0\n",
            "1\n",
            "2\n",
            "3\n",
            "4\n",
            "5\n",
            "6\n",
            "7\n",
            "8\n",
            "9\n",
            "10\n",
            "11\n",
            "12\n",
            "13\n",
            "14\n",
            "15\n",
            "16\n",
            "17\n"
          ]
        }
      ]
    },
    {
      "cell_type": "markdown",
      "source": [
        "Using the start parameter:"
      ],
      "metadata": {
        "id": "L8RpCM2wUSuQ"
      }
    },
    {
      "cell_type": "code",
      "source": [
        "for x in range(5, 15):\n",
        "  print(x)"
      ],
      "metadata": {
        "colab": {
          "base_uri": "https://localhost:8080/"
        },
        "id": "NlRq2SZ1UUxF",
        "outputId": "15e51952-ae27-4f41-8e2e-da1c38bb06c2"
      },
      "execution_count": 8,
      "outputs": [
        {
          "output_type": "stream",
          "name": "stdout",
          "text": [
            "5\n",
            "6\n",
            "7\n",
            "8\n",
            "9\n",
            "10\n",
            "11\n",
            "12\n",
            "13\n",
            "14\n"
          ]
        }
      ]
    },
    {
      "cell_type": "markdown",
      "source": [
        "Increment the sequence with 3 (default is 1)"
      ],
      "metadata": {
        "id": "KtfRRUGCUf6r"
      }
    },
    {
      "cell_type": "code",
      "source": [
        "for x in range(5, 15, 2):\n",
        "  print(x)"
      ],
      "metadata": {
        "colab": {
          "base_uri": "https://localhost:8080/"
        },
        "id": "daa4GTBzUhxc",
        "outputId": "bcb6f03b-b297-494f-def7-896f171fc010"
      },
      "execution_count": 10,
      "outputs": [
        {
          "output_type": "stream",
          "name": "stdout",
          "text": [
            "5\n",
            "7\n",
            "9\n",
            "11\n",
            "13\n"
          ]
        }
      ]
    },
    {
      "cell_type": "markdown",
      "source": [
        "Print all numbers from 0 to 33, and print a message when the loop has ended:"
      ],
      "metadata": {
        "id": "T2zFXwp9U0v9"
      }
    },
    {
      "cell_type": "code",
      "source": [
        "for x in range(15):\n",
        "  print(x)\n",
        "else:\n",
        "  print(\"done!\")"
      ],
      "metadata": {
        "colab": {
          "base_uri": "https://localhost:8080/"
        },
        "id": "3e2QpwoYU5DY",
        "outputId": "da30e76a-3f29-4341-81de-b2ce670f1202"
      },
      "execution_count": 11,
      "outputs": [
        {
          "output_type": "stream",
          "name": "stdout",
          "text": [
            "0\n",
            "1\n",
            "2\n",
            "3\n",
            "4\n",
            "5\n",
            "6\n",
            "7\n",
            "8\n",
            "9\n",
            "10\n",
            "11\n",
            "12\n",
            "13\n",
            "14\n",
            "done!\n"
          ]
        }
      ]
    },
    {
      "cell_type": "markdown",
      "source": [
        "Break the loop when x is 12, and see what happens with the else block:"
      ],
      "metadata": {
        "id": "iCifDEmtVFP3"
      }
    },
    {
      "cell_type": "code",
      "source": [
        "for x in range(15):\n",
        "  if x == 8: break\n",
        "  print(x)\n",
        "else:\n",
        "  print(\"done!\")"
      ],
      "metadata": {
        "colab": {
          "base_uri": "https://localhost:8080/"
        },
        "id": "nU4eP7yLVMeL",
        "outputId": "345f99ef-b92d-4425-ac8d-92034571ba97"
      },
      "execution_count": 12,
      "outputs": [
        {
          "output_type": "stream",
          "name": "stdout",
          "text": [
            "0\n",
            "1\n",
            "2\n",
            "3\n",
            "4\n",
            "5\n",
            "6\n",
            "7\n"
          ]
        }
      ]
    },
    {
      "cell_type": "markdown",
      "source": [
        "Print each adjective for every country:"
      ],
      "metadata": {
        "id": "Qzn5nyWLVbP-"
      }
    },
    {
      "cell_type": "code",
      "source": [
        "adj = [\"fragrant\", \"Colorful\", \"beautiful\"]\n",
        "flowers = [\"rose\", \"tulips\", \"daisy\"]\n",
        "\n",
        "for x in adj:\n",
        "  for y in flowers:\n",
        "    print(x, y)"
      ],
      "metadata": {
        "colab": {
          "base_uri": "https://localhost:8080/"
        },
        "id": "RlnLFhuCVcMe",
        "outputId": "e944659b-1d04-44fc-bb49-e884e0cf2ef5"
      },
      "execution_count": 13,
      "outputs": [
        {
          "output_type": "stream",
          "name": "stdout",
          "text": [
            "fragrant rose\n",
            "fragrant tulips\n",
            "fragrant daisy\n",
            "Colorful rose\n",
            "Colorful tulips\n",
            "Colorful daisy\n",
            "beautiful rose\n",
            "beautiful tulips\n",
            "beautiful daisy\n"
          ]
        }
      ]
    },
    {
      "cell_type": "markdown",
      "source": [
        "for loops cannot be empty, but if you for some reason have a for loop with no content, put in the pass statement to avoid getting an error."
      ],
      "metadata": {
        "id": "91Fu-VXbWi6j"
      }
    },
    {
      "cell_type": "code",
      "source": [
        "for x in [5, 15, 30]:\n",
        "  pass"
      ],
      "metadata": {
        "id": "HdBBpAeLWmLX"
      },
      "execution_count": 15,
      "outputs": []
    }
  ]
}