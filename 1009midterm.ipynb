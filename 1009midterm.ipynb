{
  "nbformat": 4,
  "nbformat_minor": 0,
  "metadata": {
    "colab": {
      "provenance": [],
      "collapsed_sections": []
    },
    "kernelspec": {
      "name": "python3",
      "display_name": "Python 3"
    },
    "language_info": {
      "name": "python"
    }
  },
  "cells": [
    {
      "cell_type": "markdown",
      "source": [
        "f(n) = 1+2+3+....+(n-1)+n\n",
        "     = f(n-1) + n\n",
        "     \n",
        "termination: f(1) = 1\n",
        "recurrence  relation : f(n) = f(n-1) + n\n",
        "\n",
        "\n",
        "input: n\n",
        "output: f(n) \n",
        "    print(f(10))\n",
        "  \n",
        "1.write a recursive function for f(n)\n",
        "2.write a iterative function for f(n)"
      ],
      "metadata": {
        "id": "JcJcfgOGsS8W"
      }
    },
    {
      "cell_type": "markdown",
      "source": [
        "**RECURSIVE FUNCTION**"
      ],
      "metadata": {
        "id": "BuXlhIhtsjhH"
      }
    },
    {
      "cell_type": "code",
      "execution_count": 7,
      "metadata": {
        "colab": {
          "base_uri": "https://localhost:8080/"
        },
        "id": "EMxjcQDMsHNW",
        "outputId": "32f539ee-7232-4da2-b0aa-7968072ff3e0"
      },
      "outputs": [
        {
          "output_type": "execute_result",
          "data": {
            "text/plain": [
              "55"
            ]
          },
          "metadata": {},
          "execution_count": 7
        }
      ],
      "source": [
        "def f(n):\n",
        "  if n == 1:\n",
        "    return 1\n",
        "  else: \n",
        "    return n + f(n-1)\n",
        "\n",
        "f(10)"
      ]
    },
    {
      "cell_type": "markdown",
      "source": [
        "**INTERACTIVE FUNCTION**"
      ],
      "metadata": {
        "id": "rG3AfG2Xsbqn"
      }
    },
    {
      "cell_type": "code",
      "source": [
        "n = 10\n",
        "f = 0\n",
        "for i in range(0, n + 1):\n",
        "  f += i\n",
        "  print(f)"
      ],
      "metadata": {
        "colab": {
          "base_uri": "https://localhost:8080/"
        },
        "id": "k4qtBFV5sw42",
        "outputId": "7367f1d5-5ede-4187-b810-3933f1f164d8"
      },
      "execution_count": 4,
      "outputs": [
        {
          "output_type": "stream",
          "name": "stdout",
          "text": [
            "0\n",
            "1\n",
            "3\n",
            "6\n",
            "10\n",
            "15\n",
            "21\n",
            "28\n",
            "36\n",
            "45\n",
            "55\n"
          ]
        }
      ]
    },
    {
      "cell_type": "markdown",
      "source": [
        "f(n) = n!\n",
        "     = 1*2*3*.....*n\n",
        "\n",
        "input: n\n",
        "output: f(n) \n",
        "    print(f(10))\n",
        "  \n",
        "1.write a recursive function for f(n)\n",
        "2.write a iterative function for f(n)"
      ],
      "metadata": {
        "id": "MijL-ZvPuVYT"
      }
    },
    {
      "cell_type": "markdown",
      "source": [
        "**RECURSIVE FUNCTION**"
      ],
      "metadata": {
        "id": "kh68kpi_uaqN"
      }
    },
    {
      "cell_type": "code",
      "source": [
        "def f(n):\n",
        "  if n == 1:\n",
        "    return 1\n",
        "  else:\n",
        "    return n * f(n - 1)\n",
        "\n",
        "f(10)"
      ],
      "metadata": {
        "colab": {
          "base_uri": "https://localhost:8080/"
        },
        "id": "V32HcF4KuiZ9",
        "outputId": "2b25f843-2e32-4414-e5eb-cc9cf4bd928f"
      },
      "execution_count": 5,
      "outputs": [
        {
          "output_type": "execute_result",
          "data": {
            "text/plain": [
              "3628800"
            ]
          },
          "metadata": {},
          "execution_count": 5
        }
      ]
    },
    {
      "cell_type": "markdown",
      "source": [
        "**INTERACTIVE FUNCTION**"
      ],
      "metadata": {
        "id": "sk4LJxRUukBE"
      }
    },
    {
      "cell_type": "code",
      "source": [
        "n = 10\n",
        "multi = 1\n",
        "for x in range(1, n+1):\n",
        "  multi *= x\n",
        "  print (multi)"
      ],
      "metadata": {
        "colab": {
          "base_uri": "https://localhost:8080/"
        },
        "id": "iNm_xoKXuv5X",
        "outputId": "f923b106-15ef-4844-cf9a-a73ba58a94ac"
      },
      "execution_count": 8,
      "outputs": [
        {
          "output_type": "stream",
          "name": "stdout",
          "text": [
            "1\n",
            "2\n",
            "6\n",
            "24\n",
            "120\n",
            "720\n",
            "5040\n",
            "40320\n",
            "362880\n",
            "3628800\n"
          ]
        }
      ]
    },
    {
      "cell_type": "markdown",
      "source": [
        "GCD:Greatest common divisor - Wikipedia\n",
        "gcd(8,12)=4\n",
        "https://en.wikipedia.org/wiki/Greatest_common_divisor\n",
        "\n",
        "Euclidean algorithm\n",
        "gcd(48,18)\n",
        "= gcd(18,48%18)\n",
        "= gcd(18,12)\n",
        "= gcd(12,18%12)\n",
        "= gcd(12,6)\n",
        "= gcd(6,12%6)\n",
        "= gcd(6,0)\n",
        "= 6\n",
        "\n",
        "output: gcd(n,m) \n",
        "print(gcd(48,18))\n",
        "\n",
        "gcd(18,48)  ==> gcd(48,18)  \n",
        "gcd(x,0) ==> return x\n",
        "recurrence  relation  : \n",
        "  \n",
        "1.write a recursive function for gcd(n,m)\n",
        "2.write a iterative function for gcd(n,m)"
      ],
      "metadata": {
        "id": "EViQ9pdIvntg"
      }
    },
    {
      "cell_type": "markdown",
      "source": [
        "**RECURSIVE FUNCTION**"
      ],
      "metadata": {
        "id": "ooOSQOjswcwo"
      }
    },
    {
      "cell_type": "code",
      "source": [
        "def gcd (n,m):\n",
        "  if m == 0:\n",
        "    return n\n",
        "  else:\n",
        "    return gcd(m, n%m)\n",
        "\n",
        "gcd(18,48)"
      ],
      "metadata": {
        "colab": {
          "base_uri": "https://localhost:8080/"
        },
        "id": "H4Y75ZEUv8zm",
        "outputId": "a90e82f9-7f18-4baf-ac48-446bd198421a"
      },
      "execution_count": 10,
      "outputs": [
        {
          "output_type": "execute_result",
          "data": {
            "text/plain": [
              "6"
            ]
          },
          "metadata": {},
          "execution_count": 10
        }
      ]
    },
    {
      "cell_type": "markdown",
      "source": [
        "**INTERACTIVE FUNCTION**"
      ],
      "metadata": {
        "id": "qy_YIa4rwzeQ"
      }
    },
    {
      "cell_type": "code",
      "source": [],
      "metadata": {
        "id": "H7McgOCwy3K0"
      },
      "execution_count": null,
      "outputs": []
    },
    {
      "cell_type": "code",
      "source": [
        "n = 48\n",
        "m = 18\n",
        "print (\"GCD (%d),(%d)\"% (n,m))\n",
        "while n !=m:\n",
        "  if n== m:\n",
        "    print(\"GCD is %d\"% (n))\n",
        "  if n > m:\n",
        "    n -=m\n",
        "  else:\n",
        "    m -= n\n",
        "  if m == n:\n",
        "    print(\"GCD is %d\"% (m))"
      ],
      "metadata": {
        "colab": {
          "base_uri": "https://localhost:8080/"
        },
        "id": "-N7MTDXPw4sR",
        "outputId": "3908a1d0-94e8-4afd-cb48-c82a217f3881"
      },
      "execution_count": 12,
      "outputs": [
        {
          "output_type": "stream",
          "name": "stdout",
          "text": [
            "GCD (48),(18)\n",
            "GCD is 6\n"
          ]
        }
      ]
    }
  ]
}