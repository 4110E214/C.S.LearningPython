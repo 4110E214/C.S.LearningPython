{
  "nbformat": 4,
  "nbformat_minor": 0,
  "metadata": {
    "colab": {
      "provenance": []
    },
    "kernelspec": {
      "name": "python3",
      "display_name": "Python 3"
    },
    "language_info": {
      "name": "python"
    }
  },
  "cells": [
    {
      "cell_type": "markdown",
      "source": [
        "EXAM 01\n",
        "\n",
        "f(n) = 1+2+3+....+(n-1)+n\n",
        "     = f(n-1) + n\n",
        "     \n",
        "termination: f(1) = 1\n",
        "recurrence  relation : f(n) = f(n-1) + n\n",
        "\n",
        "\n",
        "input: n\n",
        "output: f(n) \n",
        "    print(f(10))\n",
        "  \n",
        "1.write a recursive function for f(n)\n",
        "\n",
        "2.write a iterative function for f(n)"
      ],
      "metadata": {
        "id": "BJWcz291bE2q"
      }
    },
    {
      "cell_type": "code",
      "execution_count": 2,
      "metadata": {
        "colab": {
          "base_uri": "https://localhost:8080/"
        },
        "id": "i_nuufeHaSCE",
        "outputId": "a23b13d2-d29d-4868-8bf5-232eca324a47"
      },
      "outputs": [
        {
          "output_type": "execute_result",
          "data": {
            "text/plain": [
              "55"
            ]
          },
          "metadata": {},
          "execution_count": 2
        }
      ],
      "source": [
        "def f(n):\n",
        "  if n == 1:\n",
        "    return 1\n",
        "  else:\n",
        "    return n + f(n-1)\n",
        "\n",
        "f(10)"
      ]
    },
    {
      "cell_type": "code",
      "source": [
        "n = 10\n",
        "f = 0\n",
        "for i in range(0, n + 1 ):\n",
        "  f += i\n",
        "  print(f)"
      ],
      "metadata": {
        "colab": {
          "base_uri": "https://localhost:8080/"
        },
        "id": "J5I6bHnXbtCG",
        "outputId": "4e80c9d7-50f6-4764-c077-34c70a8d4846"
      },
      "execution_count": 3,
      "outputs": [
        {
          "output_type": "stream",
          "name": "stdout",
          "text": [
            "0\n",
            "1\n",
            "3\n",
            "6\n",
            "10\n",
            "15\n",
            "21\n",
            "28\n",
            "36\n",
            "45\n",
            "55\n"
          ]
        }
      ]
    },
    {
      "cell_type": "markdown",
      "source": [
        "f(n) = n!\n",
        "     = 1*2*3*.....*n\n",
        "\n",
        "input: n\n",
        "output: f(n) \n",
        "    print(f(10))\n",
        "  \n",
        "1.write a recursive function for f(n)\n",
        "\n",
        "2.write a iterative function for f(n"
      ],
      "metadata": {
        "id": "7MvdXTkhbwTe"
      }
    },
    {
      "cell_type": "code",
      "source": [
        "def f(n):\n",
        "  if n == 1:\n",
        "    return 1\n",
        "  else:\n",
        "    return n * f(n - 1)\n",
        "\n",
        "f(10)"
      ],
      "metadata": {
        "colab": {
          "base_uri": "https://localhost:8080/"
        },
        "id": "TXrd-03-b08i",
        "outputId": "38ef8179-4b47-464e-96cc-818576770d73"
      },
      "execution_count": 4,
      "outputs": [
        {
          "output_type": "execute_result",
          "data": {
            "text/plain": [
              "3628800"
            ]
          },
          "metadata": {},
          "execution_count": 4
        }
      ]
    },
    {
      "cell_type": "code",
      "source": [
        "n = 10\n",
        "multi = 1\n",
        "for x in range(1, n+1):\n",
        "  multi *= x\n",
        "  print (multi)"
      ],
      "metadata": {
        "colab": {
          "base_uri": "https://localhost:8080/"
        },
        "id": "YTtyutrVcLdg",
        "outputId": "98bd20f3-0415-4ab1-a55f-f80909105a5a"
      },
      "execution_count": 5,
      "outputs": [
        {
          "output_type": "stream",
          "name": "stdout",
          "text": [
            "1\n",
            "2\n",
            "6\n",
            "24\n",
            "120\n",
            "720\n",
            "5040\n",
            "40320\n",
            "362880\n",
            "3628800\n"
          ]
        }
      ]
    },
    {
      "cell_type": "markdown",
      "source": [
        "GCD:Greatest common divisor - Wikipedia\n",
        "gcd(8,12)=4\n",
        "https://en.wikipedia.org/wiki/Greatest_common_divisor\n",
        "\n",
        "Euclidean algorithm\n",
        "gcd(48,18)\n",
        "= gcd(18,48%18)\n",
        "= gcd(18,12)\n",
        "= gcd(12,18%12)\n",
        "= gcd(12,6)\n",
        "= gcd(6,12%6)\n",
        "= gcd(6,0)\n",
        "= 6\n",
        "\n",
        "output: gcd(n,m) \n",
        "print(gcd(48,18))\n",
        "\n",
        "gcd(18,48)  ==> gcd(48,18)  \n",
        "gcd(x,0) ==> return x\n",
        "recurrence  relation  : \n",
        "  \n",
        "1.write a recursive function for gcd(n,m)\n",
        "2.write a iterative function for gcd(n,m)\n"
      ],
      "metadata": {
        "id": "c7AwY8w0cOGn"
      }
    },
    {
      "cell_type": "code",
      "source": [
        "def gcd (n,m):\n",
        "  if m == 0:\n",
        "    return n\n",
        "  else:\n",
        "    return gcd(m, n%m)\n",
        "\n",
        "gcd(18,48)"
      ],
      "metadata": {
        "colab": {
          "base_uri": "https://localhost:8080/"
        },
        "id": "HEqWbMpxcXDk",
        "outputId": "1cb4a728-9efe-497d-bef6-a916d3151c4a"
      },
      "execution_count": 6,
      "outputs": [
        {
          "output_type": "execute_result",
          "data": {
            "text/plain": [
              "6"
            ]
          },
          "metadata": {},
          "execution_count": 6
        }
      ]
    },
    {
      "cell_type": "code",
      "source": [
        "n = 48\n",
        "m = 18\n",
        "print (\"GCD (%d),(%d)\"% (n,m))\n",
        "while n != m:\n",
        "  if n == m:\n",
        "    print(\"GCD is %d\"% (n))\n",
        "  if n > m:\n",
        "    n -= m\n",
        "  else:\n",
        "    m -= n\n",
        "  if m == n:\n",
        "    print(\"GCD is %d\"% (m))"
      ],
      "metadata": {
        "colab": {
          "base_uri": "https://localhost:8080/"
        },
        "id": "ScvEi9jndcm0",
        "outputId": "32df4dce-5c6b-4543-80c0-13d3cef9bf3d"
      },
      "execution_count": 7,
      "outputs": [
        {
          "output_type": "stream",
          "name": "stdout",
          "text": [
            "GCD (48),(18)\n",
            "GCD is 6\n"
          ]
        }
      ]
    }
  ]
}