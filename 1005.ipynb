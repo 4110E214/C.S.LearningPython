{
  "nbformat": 4,
  "nbformat_minor": 0,
  "metadata": {
    "colab": {
      "provenance": [],
      "collapsed_sections": []
    },
    "kernelspec": {
      "name": "python3",
      "display_name": "Python 3"
    },
    "language_info": {
      "name": "python"
    }
  },
  "cells": [
    {
      "cell_type": "markdown",
      "source": [
        "\n",
        "\n",
        "*   strings in Python are arrays of bytes representing unicode characters\n",
        "\n"
      ],
      "metadata": {
        "id": "3hMUEdvRBCCs"
      }
    },
    {
      "cell_type": "code",
      "execution_count": 1,
      "metadata": {
        "colab": {
          "base_uri": "https://localhost:8080/"
        },
        "id": "5cq60SkR499C",
        "outputId": "cd44ed7b-a09e-4a14-f405-f2054dc467c3"
      },
      "outputs": [
        {
          "output_type": "stream",
          "name": "stdout",
          "text": [
            "芮\n"
          ]
        }
      ],
      "source": [
        "a = \"Hello, 艾芮絲\"\n",
        "print(a[7])\n",
        "\n",
        "# strings == > array\n",
        "# index begins with 0"
      ]
    },
    {
      "cell_type": "markdown",
      "source": [
        "\n",
        "\n",
        "*   Strings are Arrays ==> acces the elemet of arrays\n",
        "*   Python does not have a character data type, a single character is simply a string with a length of 1\n",
        "\n"
      ],
      "metadata": {
        "id": "DGvSL9RsBOVx"
      }
    },
    {
      "cell_type": "code",
      "source": [
        "a = \"Hello, 艾芮絲!\"\n",
        "print(a[4])\n",
        "\n",
        "# strings == > array\n",
        "# index begins with 0"
      ],
      "metadata": {
        "colab": {
          "base_uri": "https://localhost:8080/"
        },
        "id": "nIO7gQFY8-bZ",
        "outputId": "cb1ce9ca-965a-465a-98ac-eebcac5ac7b2"
      },
      "execution_count": 4,
      "outputs": [
        {
          "output_type": "stream",
          "name": "stdout",
          "text": [
            "o\n"
          ]
        }
      ]
    },
    {
      "cell_type": "markdown",
      "source": [
        "\n",
        "\n",
        "*   Looping Through a String\n",
        "\n"
      ],
      "metadata": {
        "id": "ITqvMrquBZE1"
      }
    },
    {
      "cell_type": "code",
      "source": [
        "for x in \"IRISH\":\n",
        "  print(x)"
      ],
      "metadata": {
        "colab": {
          "base_uri": "https://localhost:8080/"
        },
        "id": "hrDPKpLQ9XAa",
        "outputId": "ca076c5d-5f98-4861-da02-a13c60cb02e2"
      },
      "execution_count": 7,
      "outputs": [
        {
          "output_type": "stream",
          "name": "stdout",
          "text": [
            "I\n",
            "R\n",
            "I\n",
            "S\n",
            "H\n"
          ]
        }
      ]
    },
    {
      "cell_type": "markdown",
      "source": [
        "\n",
        "\n",
        "*   String Length:To get the length of a string, use the len()function\n",
        "\n"
      ],
      "metadata": {
        "id": "Ip4J2ZzPBeMS"
      }
    },
    {
      "cell_type": "code",
      "source": [
        "a = \"Hello, WORLD!\"\n",
        "print(len(a))\n",
        "# wrong: print(length(a))"
      ],
      "metadata": {
        "colab": {
          "base_uri": "https://localhost:8080/"
        },
        "id": "HDfqvttG9pnV",
        "outputId": "7074dc10-c6d1-4e39-cc70-70ae543ff92c"
      },
      "execution_count": 8,
      "outputs": [
        {
          "output_type": "stream",
          "name": "stdout",
          "text": [
            "13\n"
          ]
        }
      ]
    },
    {
      "cell_type": "markdown",
      "source": [
        "QUIZ:tell me how many char appear in \"dshdsjadhsjahdsjhdecwej dsaksdjl\""
      ],
      "metadata": {
        "id": "qxpc6w_jBmNg"
      }
    },
    {
      "cell_type": "code",
      "source": [
        "a = \"dshdsjadhsjahdsjhdecwej  dsaksdjl\"\n",
        "print(len(a))\n",
        "# wrong: print(length(a))\n",
        "# 33 = 31 letter 2 space"
      ],
      "metadata": {
        "colab": {
          "base_uri": "https://localhost:8080/"
        },
        "id": "xcAsdh6r94FY",
        "outputId": "be2ea1b5-fd40-4152-8e57-603d4a021d78"
      },
      "execution_count": 9,
      "outputs": [
        {
          "output_type": "stream",
          "name": "stdout",
          "text": [
            "33\n"
          ]
        }
      ]
    },
    {
      "cell_type": "markdown",
      "source": [
        "\n",
        "*   Check String:To check if a certain phrase or character is present in a string, we can use the keyword in\n",
        "*   keyword in vs if\n",
        "*   True or False\n",
        "\n",
        "\n",
        "\n",
        "\n",
        "\n"
      ],
      "metadata": {
        "id": "EDcM0Hn8BquF"
      }
    },
    {
      "cell_type": "code",
      "source": [
        "txt = \"The best things in life are free!HDJSAdhjs  dhsjahd32 dsaDJHSajdh \"\n",
        "# print(\"free\" in txt) == > True\n",
        "# print(\"HDJSAdhj\" in txt) == > True\n",
        "print(\"HJSAdh\" in txt)  # False"
      ],
      "metadata": {
        "colab": {
          "base_uri": "https://localhost:8080/"
        },
        "id": "T1P99fKX96WB",
        "outputId": "05f2957c-64db-4407-87c4-c893be1106a1"
      },
      "execution_count": 10,
      "outputs": [
        {
          "output_type": "stream",
          "name": "stdout",
          "text": [
            "False\n"
          ]
        }
      ]
    },
    {
      "cell_type": "markdown",
      "source": [],
      "metadata": {
        "id": "Cm-DVG0BCFVY"
      }
    },
    {
      "cell_type": "code",
      "source": [
        "txt = \"The best things in life are free!HDJSAdhjs  dhsjahd32 dsaDJHSajdh \"\n",
        "if \"HDJSAdhj\" in txt:\n",
        "  print(\"Yes, 'HDJSAdhj' is present.\")"
      ],
      "metadata": {
        "colab": {
          "base_uri": "https://localhost:8080/"
        },
        "id": "qKeUATHP-Fit",
        "outputId": "8f4697b5-d893-4faa-de87-7c75d05f4c3a"
      },
      "execution_count": 11,
      "outputs": [
        {
          "output_type": "stream",
          "name": "stdout",
          "text": [
            "Yes, 'HDJSAdhj' is present.\n"
          ]
        }
      ]
    },
    {
      "cell_type": "code",
      "source": [
        "txt = \"The best things in life are free!HDJSAdhjs  dhsjahd32 dsaDJHSajdh \"\n",
        "if \"HJSAdhj\" in txt:\n",
        "  print(\"Yes, 'HJSAdhj' is present.\")"
      ],
      "metadata": {
        "id": "4cAZ5vyH-JzG"
      },
      "execution_count": 12,
      "outputs": []
    },
    {
      "cell_type": "markdown",
      "source": [
        "\n",
        "\n",
        "*   Negative Indexing\n"
      ],
      "metadata": {
        "id": "Lj6oQoXTCM1R"
      }
    },
    {
      "cell_type": "code",
      "source": [
        "b = \"Hello, IRISH!\"\n",
        "print(b[-5:-2])\n",
        "# -2 not included"
      ],
      "metadata": {
        "colab": {
          "base_uri": "https://localhost:8080/"
        },
        "id": "O-nrM98Z-VDD",
        "outputId": "cc56e2a2-6fd5-42b8-9190-d659ef2bece4"
      },
      "execution_count": 15,
      "outputs": [
        {
          "output_type": "stream",
          "name": "stdout",
          "text": [
            "RIS\n"
          ]
        }
      ]
    },
    {
      "cell_type": "markdown",
      "source": [
        "\n",
        "\n",
        "*   Python - Modify Strings\n",
        "*   The upper() method returns the string in upper case\n",
        "*   The lower() method returns the string in lower case\n",
        "\n",
        "\n",
        "\n"
      ],
      "metadata": {
        "id": "DQHFWjHgCVUy"
      }
    },
    {
      "cell_type": "code",
      "source": [
        "b = \"Hello, IRISH!\"\n",
        "print(b.upper())"
      ],
      "metadata": {
        "colab": {
          "base_uri": "https://localhost:8080/"
        },
        "id": "lFME8xZv-hgk",
        "outputId": "f0c261d1-5cb6-47c1-be71-c0f26bb7c830"
      },
      "execution_count": 16,
      "outputs": [
        {
          "output_type": "stream",
          "name": "stdout",
          "text": [
            "HELLO, IRISH!\n"
          ]
        }
      ]
    },
    {
      "cell_type": "markdown",
      "source": [
        "\n",
        "\n",
        "*   Remove Whitespace with strip() method\n",
        "*   The strip() method removes any whitespace from the beginning or the end\n"
      ],
      "metadata": {
        "id": "UG5eYxfCCtj9"
      }
    },
    {
      "cell_type": "code",
      "source": [
        "b = \" Hello, IRISH! \"\n",
        "print(b.strip())"
      ],
      "metadata": {
        "colab": {
          "base_uri": "https://localhost:8080/"
        },
        "id": "Tfe3qkF1-qIe",
        "outputId": "73b26dba-c785-4a75-b003-761d3509b1c9"
      },
      "execution_count": 17,
      "outputs": [
        {
          "output_type": "stream",
          "name": "stdout",
          "text": [
            "Hello, IRISH!\n"
          ]
        }
      ]
    },
    {
      "cell_type": "markdown",
      "source": [
        "\n",
        "\n",
        "*   The replace()method replaces a string with another string\n",
        "*   seperator\n",
        "\n"
      ],
      "metadata": {
        "id": "Qy4MN6IkC38W"
      }
    },
    {
      "cell_type": "code",
      "source": [
        "b = \" Hello, IRISH! \"\n",
        "print(b.replace(\"o\", \"w\"))"
      ],
      "metadata": {
        "colab": {
          "base_uri": "https://localhost:8080/"
        },
        "id": "to7C1x2v-xdR",
        "outputId": "ee88de50-ee67-4ea9-c664-77d6fc54b0fa"
      },
      "execution_count": 18,
      "outputs": [
        {
          "output_type": "stream",
          "name": "stdout",
          "text": [
            " Hellw, IRISH! \n"
          ]
        }
      ]
    },
    {
      "cell_type": "code",
      "source": [
        "b = \" Hello, IRISH! \"\n",
        "print(b.split(\",\"))"
      ],
      "metadata": {
        "colab": {
          "base_uri": "https://localhost:8080/"
        },
        "id": "oMARFIcm-5NM",
        "outputId": "4b27eea7-8956-41eb-c03f-648e39cf27a0"
      },
      "execution_count": 19,
      "outputs": [
        {
          "output_type": "stream",
          "name": "stdout",
          "text": [
            "[' Hello', ' IRISH! ']\n"
          ]
        }
      ]
    },
    {
      "cell_type": "code",
      "source": [
        "b = \" Hello, IRISH! \"\n",
        "print(b.split(\"D\"))"
      ],
      "metadata": {
        "colab": {
          "base_uri": "https://localhost:8080/"
        },
        "id": "fEREccrg_Iei",
        "outputId": "c117e75e-b7ac-40ce-fbd1-0e5eb0494f59"
      },
      "execution_count": 20,
      "outputs": [
        {
          "output_type": "stream",
          "name": "stdout",
          "text": [
            "[' Hello, IRISH! ']\n"
          ]
        }
      ]
    },
    {
      "cell_type": "markdown",
      "source": [
        "\n",
        "\n",
        "*   String Concatenation:To concatenate, or combine, two strings you can use the + operator.\n",
        "\n"
      ],
      "metadata": {
        "id": "KJDJ_KkBDN9i"
      }
    },
    {
      "cell_type": "code",
      "source": [
        "a = \"Hello\"\n",
        "b = \" , \"\n",
        "c = \"IRISH\"\n",
        "d = a + b + c\n",
        "print(d)"
      ],
      "metadata": {
        "colab": {
          "base_uri": "https://localhost:8080/"
        },
        "id": "0xSvdNAX_pcS",
        "outputId": "6e9e7652-7b14-4637-a7e5-c16e84a611ae"
      },
      "execution_count": 21,
      "outputs": [
        {
          "output_type": "stream",
          "name": "stdout",
          "text": [
            "Hello , IRISH\n"
          ]
        }
      ]
    },
    {
      "cell_type": "markdown",
      "source": [
        "\n",
        "\n",
        "*   Python - Format - String\n",
        "\n"
      ],
      "metadata": {
        "id": "XsuPTwtUDUK8"
      }
    },
    {
      "cell_type": "code",
      "source": [
        "age = 18\n",
        "txt = \"My name is IRISH, and I am {}\"\n",
        "print(txt.format(age))"
      ],
      "metadata": {
        "colab": {
          "base_uri": "https://localhost:8080/"
        },
        "id": "4-LdVPG2_xWk",
        "outputId": "7e8466fe-0b31-43f7-8995-15e7430a2a7b"
      },
      "execution_count": 22,
      "outputs": [
        {
          "output_type": "stream",
          "name": "stdout",
          "text": [
            "My name is IRISH, and I am 18\n"
          ]
        }
      ]
    },
    {
      "cell_type": "code",
      "source": [
        "quantity = 3\n",
        "itemno = 567\n",
        "price = 49.95\n",
        "myorder = \"I want {2} pieces of item {0} for {1} dollars.\"\n",
        "print(myorder.format(quantity, itemno, price))"
      ],
      "metadata": {
        "colab": {
          "base_uri": "https://localhost:8080/"
        },
        "id": "oe2pzHgh_4Om",
        "outputId": "3084efbb-e155-4ec9-d867-29af502a5309"
      },
      "execution_count": 23,
      "outputs": [
        {
          "output_type": "stream",
          "name": "stdout",
          "text": [
            "I want 49.95 pieces of item 3 for 567 dollars.\n"
          ]
        }
      ]
    },
    {
      "cell_type": "code",
      "source": [
        "txt = \"hello everyone welcome to my world.\"\n",
        "\n",
        "x = txt.capitalize()\n",
        "\n",
        "print (x)"
      ],
      "metadata": {
        "colab": {
          "base_uri": "https://localhost:8080/"
        },
        "id": "n3yMp2rIACY7",
        "outputId": "0d667d59-8ce0-471d-e62a-b95096e60b90"
      },
      "execution_count": 24,
      "outputs": [
        {
          "output_type": "stream",
          "name": "stdout",
          "text": [
            "Hello everyone welcome to my world.\n"
          ]
        }
      ]
    },
    {
      "cell_type": "code",
      "source": [
        "txt = \"Hello everyone Welcome To My World!\"\n",
        "\n",
        "x = txt.casefold()\n",
        "\n",
        "print(x)"
      ],
      "metadata": {
        "colab": {
          "base_uri": "https://localhost:8080/"
        },
        "id": "gWoaTJ4SAWV7",
        "outputId": "2dc7ae62-7aec-4318-a260-6773a1a8bae7"
      },
      "execution_count": 25,
      "outputs": [
        {
          "output_type": "stream",
          "name": "stdout",
          "text": [
            "hello everyone welcome to my world!\n"
          ]
        }
      ]
    }
  ]
}