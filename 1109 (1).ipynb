{
  "nbformat": 4,
  "nbformat_minor": 0,
  "metadata": {
    "colab": {
      "provenance": []
    },
    "kernelspec": {
      "name": "python3",
      "display_name": "Python 3"
    },
    "language_info": {
      "name": "python"
    }
  },
  "cells": [
    {
      "cell_type": "markdown",
      "source": [
        "RECURSIVE FUNCTION"
      ],
      "metadata": {
        "id": "nVUz4C35fTU_"
      }
    },
    {
      "cell_type": "code",
      "execution_count": 1,
      "metadata": {
        "colab": {
          "base_uri": "https://localhost:8080/"
        },
        "id": "gVC4VfnKdrQp",
        "outputId": "d76d7113-fa7e-4e64-ae9c-a52b187e2e7c"
      },
      "outputs": [
        {
          "output_type": "stream",
          "name": "stdout",
          "text": [
            "The factorial of 10 is 3628800\n"
          ]
        }
      ],
      "source": [
        "def f(n):\n",
        "\n",
        "    if n == 1:\n",
        "        return 1\n",
        "    else:\n",
        "        return (n * f(n-1))\n",
        "\n",
        "\n",
        "num = 10\n",
        "print(\"The factorial of\", num, \"is\", f(num))"
      ]
    },
    {
      "cell_type": "markdown",
      "source": [
        "INTERATIVE FUNCTION"
      ],
      "metadata": {
        "id": "uWCDSZW7fWnJ"
      }
    },
    {
      "cell_type": "code",
      "source": [
        "colors = [\"red\", \"black\", \"white\"]\n",
        "i = 0\n",
        "while (i < len(colors)):\n",
        "    print(colors[i])\n",
        "    i += 1"
      ],
      "metadata": {
        "colab": {
          "base_uri": "https://localhost:8080/"
        },
        "id": "v9nholYmeF0Y",
        "outputId": "3856d8b1-8786-4869-9471-0841b5a5ab37"
      },
      "execution_count": 2,
      "outputs": [
        {
          "output_type": "stream",
          "name": "stdout",
          "text": [
            "red\n",
            "black\n",
            "white\n"
          ]
        }
      ]
    },
    {
      "cell_type": "markdown",
      "source": [
        "RECURSIVE FUNCTION"
      ],
      "metadata": {
        "id": "khPOTVhXfaYt"
      }
    },
    {
      "cell_type": "code",
      "source": [
        "def f(n):\n",
        "    if n == 1: \n",
        "        return 1\n",
        "\n",
        "    else:\n",
        "        return(n * f(n-1))\n",
        "\n",
        "print(f(10))"
      ],
      "metadata": {
        "colab": {
          "base_uri": "https://localhost:8080/"
        },
        "id": "akYH032GgCFJ",
        "outputId": "7075ba7a-d4de-4fdb-b8be-3ac488992ce3"
      },
      "execution_count": 6,
      "outputs": [
        {
          "output_type": "stream",
          "name": "stdout",
          "text": [
            "3628800\n"
          ]
        }
      ]
    },
    {
      "cell_type": "markdown",
      "source": [
        "INTERATIVE FUNCTION"
      ],
      "metadata": {
        "id": "ZG7a7wpJgJGp"
      }
    },
    {
      "cell_type": "code",
      "source": [
        "n = 5\n",
        "for i in range(n):\n",
        "   print(10**(3*i))\n",
        "   for i in range(n, -1, -1):\n",
        "     print(10**(3*i))"
      ],
      "metadata": {
        "colab": {
          "base_uri": "https://localhost:8080/"
        },
        "id": "XKiUqIhLeXWO",
        "outputId": "a3b26996-0140-45ef-9e60-91ebc618e92c"
      },
      "execution_count": 3,
      "outputs": [
        {
          "output_type": "stream",
          "name": "stdout",
          "text": [
            "1\n",
            "1000000000000000\n",
            "1000000000000\n",
            "1000000000\n",
            "1000000\n",
            "1000\n",
            "1\n",
            "1000\n",
            "1000000000000000\n",
            "1000000000000\n",
            "1000000000\n",
            "1000000\n",
            "1000\n",
            "1\n",
            "1000000\n",
            "1000000000000000\n",
            "1000000000000\n",
            "1000000000\n",
            "1000000\n",
            "1000\n",
            "1\n",
            "1000000000\n",
            "1000000000000000\n",
            "1000000000000\n",
            "1000000000\n",
            "1000000\n",
            "1000\n",
            "1\n",
            "1000000000000\n",
            "1000000000000000\n",
            "1000000000000\n",
            "1000000000\n",
            "1000000\n",
            "1000\n",
            "1\n"
          ]
        }
      ]
    },
    {
      "cell_type": "markdown",
      "source": [
        "RECURSIVE FUNCTION"
      ],
      "metadata": {
        "id": "itoiL3XFffUP"
      }
    },
    {
      "cell_type": "code",
      "source": [
        "def f(a, b):\n",
        "    if(b == 0):\n",
        "        return abs(a)\n",
        "    else:\n",
        "        return f(b, a % b)\n",
        " \n",
        "a = 50\n",
        "b = 38\n",
        "print(\"The gcd of 12 and 10 is : \", end=\"\")\n",
        "print(f(12, 10))"
      ],
      "metadata": {
        "colab": {
          "base_uri": "https://localhost:8080/"
        },
        "id": "tlY5BG5aekrY",
        "outputId": "6d0d1031-c405-48f0-d50c-7406da28a0be"
      },
      "execution_count": 4,
      "outputs": [
        {
          "output_type": "stream",
          "name": "stdout",
          "text": [
            "The gcd of 12 and 10 is : 2\n"
          ]
        }
      ]
    },
    {
      "cell_type": "markdown",
      "source": [
        "INTERATIVE FUNCTION"
      ],
      "metadata": {
        "id": "osWVCR17fi7X"
      }
    },
    {
      "cell_type": "code",
      "source": [
        "import math\n",
        "\n",
        "print (math.gcd(5, 10))\n",
        "print (math.gcd(10, 20))\n",
        "print (math.gcd(20, 30))\n",
        "print (math.gcd(8, 32))\n",
        "print (math.gcd(6, 36))\n",
        "print (math.gcd(10, 0))\n",
        "print (math.gcd(0, 24))\n",
        "print (math.gcd(0, 0))"
      ],
      "metadata": {
        "colab": {
          "base_uri": "https://localhost:8080/"
        },
        "id": "nZmvKev_e7Ja",
        "outputId": "b24912b5-486e-4512-f7cd-cbb50fc47419"
      },
      "execution_count": 5,
      "outputs": [
        {
          "output_type": "stream",
          "name": "stdout",
          "text": [
            "5\n",
            "10\n",
            "10\n",
            "8\n",
            "6\n",
            "10\n",
            "24\n",
            "0\n"
          ]
        }
      ]
    }
  ]
}