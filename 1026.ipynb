{
  "nbformat": 4,
  "nbformat_minor": 0,
  "metadata": {
    "colab": {
      "provenance": []
    },
    "kernelspec": {
      "name": "python3",
      "display_name": "Python 3"
    },
    "language_info": {
      "name": "python"
    }
  },
  "cells": [
    {
      "cell_type": "code",
      "execution_count": 1,
      "metadata": {
        "colab": {
          "base_uri": "https://localhost:8080/"
        },
        "id": "Q128EPlfX4PW",
        "outputId": "d33eefce-2b5a-413d-8d07-78b35248fc8e"
      },
      "outputs": [
        {
          "output_type": "execute_result",
          "data": {
            "text/plain": [
              "171"
            ]
          },
          "metadata": {},
          "execution_count": 1
        }
      ],
      "source": [
        "def f(n):\n",
        "   if n == 1:\n",
        "     return 1\n",
        "   else:\n",
        "     return f(n-1) + n\n",
        "\n",
        "f(18)"
      ]
    },
    {
      "cell_type": "code",
      "source": [
        "def sum(i1, i2):\n",
        "    result = 0\n",
        "    for i in range(i1,i2):\n",
        "      result += i\n",
        "    return result\n",
        "\n",
        "def main():\n",
        "    print(\"Sum from 5 to 10 is\", sum(5, 10)) \n",
        "    print(\"Sum from 10 to 20 is\", sum(10, 20))\n",
        "    print(\"Sum from 20 to 30 is\", sum(20, 30))\n",
        "\n",
        "main() # Call the main function"
      ],
      "metadata": {
        "colab": {
          "base_uri": "https://localhost:8080/"
        },
        "id": "1ueERxO_YISR",
        "outputId": "ecf8815b-048c-4cb1-cbf1-299639211ade"
      },
      "execution_count": 2,
      "outputs": [
        {
          "output_type": "stream",
          "name": "stdout",
          "text": [
            "Sum from 5 to 10 is 35\n",
            "Sum from 10 to 20 is 145\n",
            "Sum from 20 to 30 is 245\n"
          ]
        }
      ]
    }
  ]
}