{
  "nbformat": 4,
  "nbformat_minor": 0,
  "metadata": {
    "colab": {
      "provenance": []
    },
    "kernelspec": {
      "name": "python3",
      "display_name": "Python 3"
    },
    "language_info": {
      "name": "python"
    }
  },
  "cells": [
    {
      "cell_type": "markdown",
      "source": [
        "remove() method on a list having duplicate elements"
      ],
      "metadata": {
        "id": "w2sjeNr_PB9T"
      }
    },
    {
      "cell_type": "code",
      "source": [
        "# flowers list\n",
        "flowers = ['rose', 'lily', 'lily', 'tulips', 'sunflower']\n",
        "\n",
        "# 'lily' is removed\n",
        "flowers.remove('lily')\n",
        "\n",
        "\n",
        "# Updated flowers list\n",
        "print('Updated flowers list: ', flowers)"
      ],
      "metadata": {
        "colab": {
          "base_uri": "https://localhost:8080/"
        },
        "id": "Lm34K8HFPVCs",
        "outputId": "4ed75d87-1543-4e58-f9a7-3ad04691bff1"
      },
      "execution_count": 4,
      "outputs": [
        {
          "output_type": "stream",
          "name": "stdout",
          "text": [
            "Updated flowers list:  ['rose', 'lily', 'tulips', 'sunflower']\n"
          ]
        }
      ]
    },
    {
      "cell_type": "markdown",
      "source": [
        "remove() method on a list having duplicate elements"
      ],
      "metadata": {
        "id": "uK0aTCbXP048"
      }
    },
    {
      "cell_type": "code",
      "source": [
        "# flowers list\n",
        "flowers = ['rose', 'lily', 'tulips', 'sunflower']\n",
        "\n",
        "# Deleting 'grass' element\n",
        "flowers.remove('grass')\n",
        "\n",
        "\n",
        "# Updated flowers List\n",
        "print('Updated flowers list: ', flowers"
      ],
      "metadata": {
        "colab": {
          "base_uri": "https://localhost:8080/",
          "height": 130
        },
        "id": "R-rS6tMNQAGL",
        "outputId": "8f10ddf3-3e86-4292-b386-7d729917977b"
      },
      "execution_count": 5,
      "outputs": [
        {
          "output_type": "error",
          "ename": "SyntaxError",
          "evalue": "ignored",
          "traceback": [
            "\u001b[0;36m  File \u001b[0;32m\"<ipython-input-5-0f1b27c894dd>\"\u001b[0;36m, line \u001b[0;32m9\u001b[0m\n\u001b[0;31m    print('Updated flowers list: ', flowers\u001b[0m\n\u001b[0m                                           ^\u001b[0m\n\u001b[0;31mSyntaxError\u001b[0m\u001b[0;31m:\u001b[0m unexpected EOF while parsing\n"
          ]
        }
      ]
    }
  ]
}